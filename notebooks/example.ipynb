{
 "cells": [
  {
   "cell_type": "markdown",
   "metadata": {},
   "source": [
    "## Pyspark on a cluster - Example"
   ]
  },
  {
   "cell_type": "markdown",
   "metadata": {},
   "source": [
    "This example shows how to read in some data from S3 and do a basic computation with it.\n",
    "\n",
    "Note: to ensure that your cluster has read and write access to S3, you should create an IAM role with `AWSS3FullAccess` enabled and attach that role to your instances.\n",
    "If you are using Flintrock then you can automatically attach the role to your instances by setting the `instance-profile-name` variable in your Flintrock config file."
   ]
  },
  {
   "cell_type": "code",
   "execution_count": null,
   "metadata": {},
   "outputs": [],
   "source": [
    "data_path = 's3a://my-bucket/path/to/some/data/*.parquet'"
   ]
  },
  {
   "cell_type": "markdown",
   "metadata": {},
   "source": [
    "The variable `spark` is a `SparkSession` object provided for you by Pyspark - no imports needed!\n",
    "It will have whatever configuration and settings you applied to `pyspark` command in `run-sparknb.sh`.\n",
    "If you would like to create a RDD, Pyspark also provides a `SparkContext` variable called `sc`."
   ]
  },
  {
   "cell_type": "code",
   "execution_count": null,
   "metadata": {},
   "outputs": [],
   "source": [
    "df = spark.read.parquet(data_path)"
   ]
  },
  {
   "cell_type": "code",
   "execution_count": null,
   "metadata": {},
   "outputs": [],
   "source": [
    "df.count()"
   ]
  }
 ],
 "metadata": {
  "kernelspec": {
   "display_name": "Python 3",
   "language": "python",
   "name": "python3"
  },
  "language_info": {
   "codemirror_mode": {
    "name": "ipython",
    "version": 3
   },
   "file_extension": ".py",
   "mimetype": "text/x-python",
   "name": "python",
   "nbconvert_exporter": "python",
   "pygments_lexer": "ipython3",
   "version": "3.7.3"
  }
 },
 "nbformat": 4,
 "nbformat_minor": 2
}
